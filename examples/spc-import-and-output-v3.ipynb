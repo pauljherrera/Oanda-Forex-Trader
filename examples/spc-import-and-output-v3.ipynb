{
 "cells": [
  {
   "cell_type": "code",
   "execution_count": 1,
   "metadata": {
    "collapsed": true
   },
   "outputs": [],
   "source": [
    "import pandas as pd\n",
    "import numpy as np\n",
    "import math"
   ]
  },
  {
   "cell_type": "code",
   "execution_count": 2,
   "metadata": {
    "collapsed": true
   },
   "outputs": [],
   "source": [
    "%matplotlib inline\n",
    "%load_ext autoreload\n",
    "%autoreload 1"
   ]
  },
  {
   "cell_type": "markdown",
   "metadata": {},
   "source": [
    "## Import data"
   ]
  },
  {
   "cell_type": "code",
   "execution_count": 3,
   "metadata": {
    "collapsed": true
   },
   "outputs": [],
   "source": [
    "ETF_file = 'oct-2017-data/GBPJPY_H4.csv'\n",
    "ETF_plus_1_file = 'oct-2017-data/GBPJPY_D1.csv'\n",
    "\n",
    "# symbol settings\n",
    "ETF_TimeFrame = \"H4\" # Important to input correctly (ex: M1,M5,M15,M30,H1,H4,D1,W1,MN1)\n",
    "ETF_plus_1_TimeFrame = \"D1\""
   ]
  },
  {
   "cell_type": "code",
   "execution_count": 4,
   "metadata": {
    "collapsed": true
   },
   "outputs": [],
   "source": [
    "df_ETF = pd.read_csv(ETF_file)\n",
    "df_ETF.columns = [\"Date\", \"O\", \"H\", \"L\", \"C\",]\n",
    "df_ETF[\"Date\"] = pd.to_datetime(df_ETF[\"Date\"], unit='s')\n",
    "df_ETF = df_ETF.set_index('Date')\n",
    "df_ETF = df_ETF.sort_index()\n",
    "df_ETF['Date'] = df_ETF.index\n",
    "df_ETF.reset_index(drop=True, inplace=True)"
   ]
  },
  {
   "cell_type": "code",
   "execution_count": 5,
   "metadata": {
    "collapsed": true
   },
   "outputs": [],
   "source": [
    "df_ETF_plus_1 = pd.read_csv(ETF_plus_1_file)\n",
    "df_ETF_plus_1.columns = [\"Date\", \"O\", \"H\", \"L\", \"C\",]\n",
    "df_ETF_plus_1[\"Date\"] = pd.to_datetime(df_ETF_plus_1[\"Date\"], unit='s')\n",
    "df_ETF_plus_1 = df_ETF_plus_1.set_index('Date')\n",
    "df_ETF_plus_1 = df_ETF_plus_1.sort_index()\n",
    "df_ETF_plus_1['Date'] = df_ETF_plus_1.index\n",
    "df_ETF_plus_1.reset_index(drop=True, inplace=True)"
   ]
  },
  {
   "cell_type": "code",
   "execution_count": 6,
   "metadata": {},
   "outputs": [
    {
     "data": {
      "text/html": [
       "<div>\n",
       "<style>\n",
       "    .dataframe thead tr:only-child th {\n",
       "        text-align: right;\n",
       "    }\n",
       "\n",
       "    .dataframe thead th {\n",
       "        text-align: left;\n",
       "    }\n",
       "\n",
       "    .dataframe tbody tr th {\n",
       "        vertical-align: top;\n",
       "    }\n",
       "</style>\n",
       "<table border=\"1\" class=\"dataframe\">\n",
       "  <thead>\n",
       "    <tr style=\"text-align: right;\">\n",
       "      <th></th>\n",
       "      <th>O</th>\n",
       "      <th>H</th>\n",
       "      <th>L</th>\n",
       "      <th>C</th>\n",
       "      <th>Date</th>\n",
       "    </tr>\n",
       "  </thead>\n",
       "  <tbody>\n",
       "    <tr>\n",
       "      <th>1189</th>\n",
       "      <td>149.191</td>\n",
       "      <td>149.345</td>\n",
       "      <td>149.108</td>\n",
       "      <td>149.302</td>\n",
       "      <td>2017-10-05 04:00:00</td>\n",
       "    </tr>\n",
       "    <tr>\n",
       "      <th>1190</th>\n",
       "      <td>149.301</td>\n",
       "      <td>149.345</td>\n",
       "      <td>148.443</td>\n",
       "      <td>148.527</td>\n",
       "      <td>2017-10-05 08:00:00</td>\n",
       "    </tr>\n",
       "    <tr>\n",
       "      <th>1191</th>\n",
       "      <td>148.526</td>\n",
       "      <td>148.627</td>\n",
       "      <td>147.679</td>\n",
       "      <td>147.708</td>\n",
       "      <td>2017-10-05 12:00:00</td>\n",
       "    </tr>\n",
       "    <tr>\n",
       "      <th>1192</th>\n",
       "      <td>147.708</td>\n",
       "      <td>148.189</td>\n",
       "      <td>147.679</td>\n",
       "      <td>148.080</td>\n",
       "      <td>2017-10-05 16:00:00</td>\n",
       "    </tr>\n",
       "    <tr>\n",
       "      <th>1193</th>\n",
       "      <td>148.080</td>\n",
       "      <td>148.118</td>\n",
       "      <td>147.865</td>\n",
       "      <td>147.976</td>\n",
       "      <td>2017-10-05 20:00:00</td>\n",
       "    </tr>\n",
       "  </tbody>\n",
       "</table>\n",
       "</div>"
      ],
      "text/plain": [
       "            O        H        L        C                Date\n",
       "1189  149.191  149.345  149.108  149.302 2017-10-05 04:00:00\n",
       "1190  149.301  149.345  148.443  148.527 2017-10-05 08:00:00\n",
       "1191  148.526  148.627  147.679  147.708 2017-10-05 12:00:00\n",
       "1192  147.708  148.189  147.679  148.080 2017-10-05 16:00:00\n",
       "1193  148.080  148.118  147.865  147.976 2017-10-05 20:00:00"
      ]
     },
     "execution_count": 6,
     "metadata": {},
     "output_type": "execute_result"
    }
   ],
   "source": [
    "df_ETF.tail()"
   ]
  },
  {
   "cell_type": "code",
   "execution_count": 7,
   "metadata": {},
   "outputs": [
    {
     "data": {
      "text/html": [
       "<div>\n",
       "<style>\n",
       "    .dataframe thead tr:only-child th {\n",
       "        text-align: right;\n",
       "    }\n",
       "\n",
       "    .dataframe thead th {\n",
       "        text-align: left;\n",
       "    }\n",
       "\n",
       "    .dataframe tbody tr th {\n",
       "        vertical-align: top;\n",
       "    }\n",
       "</style>\n",
       "<table border=\"1\" class=\"dataframe\">\n",
       "  <thead>\n",
       "    <tr style=\"text-align: right;\">\n",
       "      <th></th>\n",
       "      <th>O</th>\n",
       "      <th>H</th>\n",
       "      <th>L</th>\n",
       "      <th>C</th>\n",
       "      <th>Date</th>\n",
       "    </tr>\n",
       "  </thead>\n",
       "  <tbody>\n",
       "    <tr>\n",
       "      <th>194</th>\n",
       "      <td>150.968</td>\n",
       "      <td>151.277</td>\n",
       "      <td>150.199</td>\n",
       "      <td>150.671</td>\n",
       "      <td>2017-09-29</td>\n",
       "    </tr>\n",
       "    <tr>\n",
       "      <th>195</th>\n",
       "      <td>150.617</td>\n",
       "      <td>150.963</td>\n",
       "      <td>149.274</td>\n",
       "      <td>149.624</td>\n",
       "      <td>2017-10-02</td>\n",
       "    </tr>\n",
       "    <tr>\n",
       "      <th>196</th>\n",
       "      <td>149.657</td>\n",
       "      <td>150.235</td>\n",
       "      <td>149.286</td>\n",
       "      <td>149.286</td>\n",
       "      <td>2017-10-03</td>\n",
       "    </tr>\n",
       "    <tr>\n",
       "      <th>197</th>\n",
       "      <td>149.272</td>\n",
       "      <td>149.901</td>\n",
       "      <td>149.035</td>\n",
       "      <td>149.316</td>\n",
       "      <td>2017-10-04</td>\n",
       "    </tr>\n",
       "    <tr>\n",
       "      <th>198</th>\n",
       "      <td>149.343</td>\n",
       "      <td>149.454</td>\n",
       "      <td>147.679</td>\n",
       "      <td>147.974</td>\n",
       "      <td>2017-10-05</td>\n",
       "    </tr>\n",
       "  </tbody>\n",
       "</table>\n",
       "</div>"
      ],
      "text/plain": [
       "           O        H        L        C       Date\n",
       "194  150.968  151.277  150.199  150.671 2017-09-29\n",
       "195  150.617  150.963  149.274  149.624 2017-10-02\n",
       "196  149.657  150.235  149.286  149.286 2017-10-03\n",
       "197  149.272  149.901  149.035  149.316 2017-10-04\n",
       "198  149.343  149.454  147.679  147.974 2017-10-05"
      ]
     },
     "execution_count": 7,
     "metadata": {},
     "output_type": "execute_result"
    }
   ],
   "source": [
    "df_ETF_plus_1.tail()"
   ]
  },
  {
   "cell_type": "markdown",
   "metadata": {},
   "source": [
    "## Trade logic / strategy to setup the trade"
   ]
  },
  {
   "cell_type": "markdown",
   "metadata": {},
   "source": [
    "### Placeholder strategy"
   ]
  },
  {
   "cell_type": "code",
   "execution_count": 8,
   "metadata": {
    "collapsed": true
   },
   "outputs": [],
   "source": [
    "#Average Directional Movement Index  \n",
    "def ADX(df, n, n_ADX):  \n",
    "    i = 0  \n",
    "    UpI = []  \n",
    "    DoI = []  \n",
    "    while i + 1 <= df.index[-1]:  \n",
    "        UpMove = df.get_value(i + 1, 'H') - df.get_value(i, 'H')  \n",
    "        DoMove = df.get_value(i, 'L') - df.get_value(i + 1, 'L')  \n",
    "        if UpMove > DoMove and UpMove > 0:  \n",
    "            UpD = UpMove  \n",
    "        else: UpD = 0  \n",
    "        UpI.append(UpD)  \n",
    "        if DoMove > UpMove and DoMove > 0:  \n",
    "            DoD = DoMove  \n",
    "        else: DoD = 0  \n",
    "        DoI.append(DoD)  \n",
    "        i = i + 1  \n",
    "    i = 0  \n",
    "    TR_l = [0]  \n",
    "    while i < df.index[-1]:  \n",
    "        TR = max(df.get_value(i + 1, 'H'), df.get_value(i, 'C')) - min(df.get_value(i + 1, 'L'), df.get_value(i, 'C'))  \n",
    "        TR_l.append(TR)  \n",
    "        i = i + 1  \n",
    "    TR_s = pd.Series(TR_l)  \n",
    "    ATR = pd.Series(pd.ewma(TR_s, span = n, min_periods = n))  \n",
    "    UpI = pd.Series(UpI)  \n",
    "    DoI = pd.Series(DoI)  \n",
    "    PosDI = pd.Series(pd.ewma(UpI, span = n, min_periods = n - 1) / ATR)  \n",
    "    NegDI = pd.Series(pd.ewma(DoI, span = n, min_periods = n - 1) / ATR)  \n",
    "    ADX = pd.Series(pd.ewma(abs(PosDI - NegDI) / (PosDI + NegDI), span = n_ADX, min_periods = n_ADX - 1), name = 'ADX_' + str(n) + '_' + str(n_ADX))  \n",
    "    df = df.join(ADX)  \n",
    "    return df"
   ]
  },
  {
   "cell_type": "code",
   "execution_count": 9,
   "metadata": {},
   "outputs": [
    {
     "name": "stderr",
     "output_type": "stream",
     "text": [
      "/Library/Frameworks/Python.framework/Versions/3.5/lib/python3.5/site-packages/ipykernel_launcher.py:25: FutureWarning: pd.ewm_mean is deprecated for Series and will be removed in a future version, replace with \n",
      "\tSeries.ewm(min_periods=10,span=10,adjust=True,ignore_na=False).mean()\n",
      "/Library/Frameworks/Python.framework/Versions/3.5/lib/python3.5/site-packages/ipykernel_launcher.py:28: FutureWarning: pd.ewm_mean is deprecated for Series and will be removed in a future version, replace with \n",
      "\tSeries.ewm(min_periods=9,span=10,adjust=True,ignore_na=False).mean()\n",
      "/Library/Frameworks/Python.framework/Versions/3.5/lib/python3.5/site-packages/ipykernel_launcher.py:29: FutureWarning: pd.ewm_mean is deprecated for Series and will be removed in a future version, replace with \n",
      "\tSeries.ewm(min_periods=9,span=10,adjust=True,ignore_na=False).mean()\n",
      "/Library/Frameworks/Python.framework/Versions/3.5/lib/python3.5/site-packages/ipykernel_launcher.py:30: FutureWarning: pd.ewm_mean is deprecated for Series and will be removed in a future version, replace with \n",
      "\tSeries.ewm(min_periods=9,span=10,adjust=True,ignore_na=False).mean()\n"
     ]
    },
    {
     "data": {
      "text/plain": [
       "<matplotlib.axes._subplots.AxesSubplot at 0x10a0f65f8>"
      ]
     },
     "execution_count": 9,
     "metadata": {},
     "output_type": "execute_result"
    },
    {
     "data": {
      "image/png": "[encoded data removed]",
      "text/plain": [
       "<matplotlib.figure.Figure at 0x10a0bf400>"
      ]
     },
     "metadata": {},
     "output_type": "display_data"
    }
   ],
   "source": [
    "ADX(df_ETF, 10, 10)['ADX_10_10'].plot()"
   ]
  },
  {
   "cell_type": "code",
   "execution_count": 19,
   "metadata": {
    "collapsed": true
   },
   "outputs": [],
   "source": [
    "def setup_trade(df_ETF, df_ETF_plus_1):\n",
    "    for each in ['TRADE_IT', 'Stop Loss', 'Entry Price', \n",
    "                 'Target Price 1', 'Target Price 2', 'Type of Trade', \n",
    "                 'Pct of Portfolio', 'TP1 vs TP2 Split']:\n",
    "        df_ETF[each] = np.NaN\n",
    "    \n",
    "    df_ETF = ADX(df_ETF, 10, 10)\n",
    "    most_recent_zone_index = int(df_ETF.index[-1])\n",
    "    print(type(most_recent_zone_index))\n",
    "    trade_setup_dict = {}\n",
    "    \n",
    "    # Set Trade to yes for the last row, telling us later to use this row to trade off\n",
    "    df_ETF.loc[most_recent_zone_index, 'TRADE_IT'] = True\n",
    "\n",
    "    df_ETF.loc[most_recent_zone_index, 'Stop Loss'] = round(df_ETF.iloc[most_recent_zone_index]['L'], 3)\n",
    "    trade_setup_dict['Stop Loss'] = round(df_ETF.iloc[most_recent_zone_index]['L'], 3)\n",
    "\n",
    "    entry_price = round((df_ETF.loc[most_recent_zone_index, 'O'] + df_ETF.loc[most_recent_zone_index, 'O'])/2, 3)\n",
    "    df_ETF.loc[most_recent_zone_index, 'Entry Price'] = entry_price\n",
    "    trade_setup_dict['Entry Price'] = entry_price\n",
    "    \n",
    "    if df_ETF.iloc[most_recent_zone_index]['ADX_10_10'] > 0.5:\n",
    "        target_multiplier = 1 #set to positive\n",
    "    elif df_ETF.iloc[most_recent_zone_index]['ADX_10_10'] <= 0.5:\n",
    "        target_multiplier = -1 #set to negative\n",
    "\n",
    "    # Find target price 1\n",
    "    if target_multiplier > 0:\n",
    "        target_price_1 = df_ETF.iloc[most_recent_zone_index]['H']*1.1\n",
    "    elif target_multiplier < 0:\n",
    "        target_price_1 = df_ETF.iloc[most_recent_zone_index]['L']*0.9\n",
    "    target_price_1 = round(target_price_1, 3)\n",
    "    df_ETF.loc[most_recent_zone_index, 'Target Price 1'] = target_price_1\n",
    "    trade_setup_dict['Target Price 1'] = target_price_1\n",
    "\n",
    "    # Find target price 1\n",
    "    if target_multiplier > 0:\n",
    "        target_price_2 = df_ETF.iloc[most_recent_zone_index]['H']*1.25\n",
    "    elif target_multiplier < 0:\n",
    "        target_price_2 = df_ETF.iloc[most_recent_zone_index]['L']*0.75\n",
    "    target_price_2 = round(target_price_2, 3)\n",
    "    df_ETF.loc[most_recent_zone_index, 'Target Price 2'] = target_price_2\n",
    "    trade_setup_dict['Target Price 2'] = target_price_2\n",
    "\n",
    "    # 'Type of Trade'\n",
    "    if target_multiplier > 0:\n",
    "        df_ETF.loc[most_recent_zone_index, 'Type of Trade'] = 'LONG'\n",
    "        trade_setup_dict['Type of Trade'] = 'LONG'\n",
    "    elif target_multiplier < 0:\n",
    "        df_ETF.loc[most_recent_zone_index, 'Type of Trade'] = 'SHORT'\n",
    "        trade_setup_dict['Type of Trade'] = 'SHORT'\n",
    "\n",
    "    # 'Pct of Portfolio'\n",
    "    # For now let's just say we use 0.03 of our available cash every time, in the future we can optimize \n",
    "    df_ETF.loc[most_recent_zone_index, 'Pct of Portfolio'] = 0.03\n",
    "    trade_setup_dict['Pct of Portfolio'] = 0.03\n",
    "\n",
    "    # 'TP1 vs TP2 Split'\n",
    "    # For now let's just say we split 50% of the trade between TP1 and TP2, in the future we can optimize \n",
    "    df_ETF.loc[most_recent_zone_index, 'TP1 vs TP2 Split'] = 0.5\n",
    "    trade_setup_dict['TP1 vs TP2 Split'] = 0.5\n",
    "    \n",
    "    # Save index of which zone we traded off\n",
    "    trade_setup_dict['zone_index'] = most_recent_zone_index\n",
    "\n",
    "    return trade_setup_dict"
   ]
  },
  {
   "cell_type": "code",
   "execution_count": 20,
   "metadata": {},
   "outputs": [
    {
     "name": "stdout",
     "output_type": "stream",
     "text": [
      "<class 'int'>\n"
     ]
    },
    {
     "name": "stderr",
     "output_type": "stream",
     "text": [
      "/Library/Frameworks/Python.framework/Versions/3.5/lib/python3.5/site-packages/ipykernel_launcher.py:25: FutureWarning: pd.ewm_mean is deprecated for Series and will be removed in a future version, replace with \n",
      "\tSeries.ewm(min_periods=10,span=10,adjust=True,ignore_na=False).mean()\n",
      "/Library/Frameworks/Python.framework/Versions/3.5/lib/python3.5/site-packages/ipykernel_launcher.py:28: FutureWarning: pd.ewm_mean is deprecated for Series and will be removed in a future version, replace with \n",
      "\tSeries.ewm(min_periods=9,span=10,adjust=True,ignore_na=False).mean()\n",
      "/Library/Frameworks/Python.framework/Versions/3.5/lib/python3.5/site-packages/ipykernel_launcher.py:29: FutureWarning: pd.ewm_mean is deprecated for Series and will be removed in a future version, replace with \n",
      "\tSeries.ewm(min_periods=9,span=10,adjust=True,ignore_na=False).mean()\n",
      "/Library/Frameworks/Python.framework/Versions/3.5/lib/python3.5/site-packages/ipykernel_launcher.py:30: FutureWarning: pd.ewm_mean is deprecated for Series and will be removed in a future version, replace with \n",
      "\tSeries.ewm(min_periods=9,span=10,adjust=True,ignore_na=False).mean()\n"
     ]
    }
   ],
   "source": [
    "trade_setup_dict = setup_trade(df_ETF, df_ETF_plus_1)"
   ]
  },
  {
   "cell_type": "code",
   "execution_count": 21,
   "metadata": {},
   "outputs": [
    {
     "data": {
      "text/plain": [
       "{'Entry Price': 148.08000000000001,\n",
       " 'Pct of Portfolio': 0.03,\n",
       " 'Stop Loss': 147.86500000000001,\n",
       " 'TP1 vs TP2 Split': 0.5,\n",
       " 'Target Price 1': 162.93000000000001,\n",
       " 'Target Price 2': 185.14699999999999,\n",
       " 'Type of Trade': 'LONG',\n",
       " 'zone_index': 1193}"
      ]
     },
     "execution_count": 21,
     "metadata": {},
     "output_type": "execute_result"
    }
   ],
   "source": [
    "# Outputs a dictionary\n",
    "trade_setup_dict"
   ]
  }
 ],
 "metadata": {
  "kernelspec": {
   "display_name": "Python 3",
   "language": "python",
   "name": "python3"
  },
  "language_info": {
   "codemirror_mode": {
    "name": "ipython",
    "version": 3
   },
   "file_extension": ".py",
   "mimetype": "text/x-python",
   "name": "python",
   "nbconvert_exporter": "python",
   "pygments_lexer": "ipython3",
   "version": "3.6.1"
  }
 },
 "nbformat": 4,
 "nbformat_minor": 2
}
